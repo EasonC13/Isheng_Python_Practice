{
 "cells": [
  {
   "cell_type": "code",
   "execution_count": 1,
   "metadata": {},
   "outputs": [
    {
     "name": "stdout",
     "output_type": "stream",
     "text": [
      "m = mode\n",
      "x = Type in char\n"
     ]
    },
    {
     "data": {
      "application/vnd.jupyter.widget-view+json": {
       "model_id": "a33c4747082c4c3391dc479e135a262c",
       "version_major": 2,
       "version_minor": 0
      },
      "text/plain": [
       "interactive(children=(Dropdown(description='m', options={'加密': 1, '解密': 2}, value=1), Text(value='', descripti…"
      ]
     },
     "metadata": {},
     "output_type": "display_data"
    },
    {
     "data": {
      "text/plain": [
       "<function __main__.main(m, x, s)>"
      ]
     },
     "execution_count": 1,
     "metadata": {},
     "output_type": "execute_result"
    }
   ],
   "source": [
    "'''此程式可以透過設定seed代碼，將文字加密\n",
    "並透過使用同樣的seed代碼，將文字解密\n",
    "要加密或解密，可透過選單選擇\n",
    "有了它，就可以跟朋友 #用暗號聊天 了呢'''\n",
    "#加密與解密文字程式\n",
    "%matplotlib inline\n",
    "import numpy as np\n",
    "import matplotlib.pyplot as plt\n",
    "import pandas as pd\n",
    "from ipywidgets import interact\n",
    "\n",
    "def main(m,x,s): \n",
    "#'''主程式，決定要加密還是解密'''\n",
    "    if m==1:\n",
    "        trans(x,s)\n",
    "    elif m==2:\n",
    "        tranb(x,s)\n",
    "    else:\n",
    "        print('mode error')\n",
    "\n",
    "def tranb(x,s=1): #解密程式\n",
    "    try: s=int(s)\n",
    "    except ValueError:\n",
    "        print('Please enter the seed')\n",
    "        s=0\n",
    "    transtra=[]\n",
    "    for i in range(len(x)):\n",
    "        try:\n",
    "            temp=ord(x[i])-(s*s*i*5-2)\n",
    "            temp=chr(temp)\n",
    "        except ValueError:\n",
    "            print(\"Error\")\n",
    "        transtra.append(temp)\n",
    "    final=''.join(str(i) for i in transtra)\n",
    "    print(final)\n",
    "\n",
    "def trans(x,s=1): #加密程式\n",
    "    try: s=int(s)\n",
    "    except ValueError:\n",
    "        print('Please enter the seed')\n",
    "        s=0\n",
    "    transtra=[]\n",
    "    for i in range(len(x)):\n",
    "        temp=ord(x[i])+(s*s*i*5+2)\n",
    "        temp=chr(temp)\n",
    "        transtra.append(temp)\n",
    "    final=''.join(str(i) for i in transtra)\n",
    "    print(final)\n",
    "\n",
    "print('m = mode\\nx = Type in char')\n",
    "interact(main,m={'加密':1,'解密':2},x='',s='0')"
   ]
  },
  {
   "cell_type": "code",
   "execution_count": null,
   "metadata": {},
   "outputs": [],
   "source": []
  }
 ],
 "metadata": {
  "kernelspec": {
   "display_name": "Python 3",
   "language": "python",
   "name": "python3"
  },
  "language_info": {
   "codemirror_mode": {
    "name": "ipython",
    "version": 3
   },
   "file_extension": ".py",
   "mimetype": "text/x-python",
   "name": "python",
   "nbconvert_exporter": "python",
   "pygments_lexer": "ipython3",
   "version": "3.6.5"
  }
 },
 "nbformat": 4,
 "nbformat_minor": 2
}
